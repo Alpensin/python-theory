{
 "cells": [
  {
   "cell_type": "markdown",
   "id": "2d25e4a0",
   "metadata": {},
   "source": [
    "# Основы декораторов"
   ]
  },
  {
   "cell_type": "markdown",
   "id": "508d2b2c",
   "metadata": {},
   "source": [
    "### Самый простой случай. \n",
    "- Декоратор не принимает дополнительных аргументов.\n",
    "- Функция не принимает дополнительных аргументов.\n",
    "- Декоратор возращает только функцию.\n",
    "- Функция возвращает None\n",
    "- Для наглядности декоратор и функция выводят сообщения"
   ]
  },
  {
   "cell_type": "code",
   "execution_count": 1,
   "id": "88e417d0",
   "metadata": {},
   "outputs": [],
   "source": [
    "def basic_decorator(func):\n",
    "    def wrapper():\n",
    "        print(\"i am decorator\")\n",
    "        func()\n",
    "    return wrapper\n",
    "\n",
    "\n",
    "@basic_decorator\n",
    "def basic_function():\n",
    "    print(\"I am function\")"
   ]
  },
  {
   "cell_type": "markdown",
   "id": "9ebe7461",
   "metadata": {},
   "source": [
    "### Результат:"
   ]
  },
  {
   "cell_type": "code",
   "execution_count": 2,
   "id": "27e48029",
   "metadata": {},
   "outputs": [
    {
     "name": "stdout",
     "output_type": "stream",
     "text": [
      "i am decorator\n",
      "I am function\n"
     ]
    }
   ],
   "source": [
    "basic_function()"
   ]
  },
  {
   "cell_type": "markdown",
   "id": "227d68ef",
   "metadata": {},
   "source": [
    "### Простой случай с аргументами функции. \n",
    "- Декоратор не принимает дополнительных аргументов.\n",
    "- Функция принимает дополнительные аргументы \\*args и \\*\\*kwargs.\n",
    "- Декоратор возращает только функцию.\n",
    "- Функция возвращает None\n",
    "- Для наглядности декоратор и функция выводят сообщения\n",
    "- Декоратор выводит \\*args и \\*\\*kwargs"
   ]
  },
  {
   "cell_type": "code",
   "execution_count": 16,
   "id": "60a4559a",
   "metadata": {},
   "outputs": [],
   "source": [
    "def basic_decorator_func_with_args(func):\n",
    "    def wrapper(*args, **kwargs):\n",
    "        print(\"i am decorator\")\n",
    "        print(f\"{args=}\")\n",
    "        print(f\"{kwargs=}\")\n",
    "        func(*args, **kwargs)\n",
    "    return wrapper\n",
    "\n",
    "\n",
    "@basic_decorator_func_with_args\n",
    "def basic_function_with_args(*args, **kwargs):\n",
    "    print(\"I am function\")\n",
    "    print(\"this is my args\", args)\n",
    "    print(\"this is my kwargs\", kwargs)"
   ]
  },
  {
   "cell_type": "code",
   "execution_count": 17,
   "id": "13db7ec3",
   "metadata": {},
   "outputs": [],
   "source": [
    "args = (\"a\", \"b\", \"c\")\n",
    "kwargs = {\"d\": 1, \"e\": 2, \"f\": 3}"
   ]
  },
  {
   "cell_type": "code",
   "execution_count": 18,
   "id": "dcab1e58",
   "metadata": {
    "scrolled": true
   },
   "outputs": [
    {
     "name": "stdout",
     "output_type": "stream",
     "text": [
      "i am decorator\n",
      "args=('a', 'b', 'c')\n",
      "kwargs={'d': 1, 'e': 2, 'f': 3}\n",
      "I am function\n",
      "this is my args ('a', 'b', 'c')\n",
      "this is my kwargs {'d': 1, 'e': 2, 'f': 3}\n"
     ]
    }
   ],
   "source": [
    "basic_function_with_args(*args, **kwargs)"
   ]
  },
  {
   "cell_type": "markdown",
   "id": "7cb5fd14",
   "metadata": {},
   "source": [
    "### Cлучай с аргументами функции и возвращаемым результатом. \n",
    "- Декоратор не принимает дополнительных аргументов.\n",
    "- Функция принимает дополнительные аргументы \\*args и \\*\\*kwargs.\n",
    "- Декоратор возращает только функцию.\n",
    "- Функция возвращает результат\n",
    "- Для наглядности декоратор и функция выводят сообщения\n",
    "- Декоратор выводит \\*args и \\*\\*kwargs"
   ]
  },
  {
   "cell_type": "code",
   "execution_count": 26,
   "id": "2288c8bb",
   "metadata": {},
   "outputs": [],
   "source": [
    "def basic_decorator_func_with_args_and_result(func):\n",
    "    def wrapper(*args, **kwargs):\n",
    "        print(\"i am decorator\")\n",
    "        print(f\"{args=}\")\n",
    "        print(f\"{kwargs=}\")\n",
    "        result = func(*args, **kwargs)\n",
    "        print(\"result в декораторе\", result)\n",
    "        return result\n",
    "    return wrapper\n",
    "\n",
    "\n",
    "@basic_decorator_func_with_args_and_result\n",
    "def basic_function_with_args_and_result(*args, **kwargs):\n",
    "    print(\"I am function\")\n",
    "    print(\"this is my args\", args)\n",
    "    print(\"this is my kwargs\", kwargs)\n",
    "    return (args, kwargs)"
   ]
  },
  {
   "cell_type": "code",
   "execution_count": 27,
   "id": "98569668",
   "metadata": {},
   "outputs": [],
   "source": [
    "args = (\"a\", \"b\", \"c\")\n",
    "kwargs = {\"d\": 1, \"e\": 2, \"f\": 3}"
   ]
  },
  {
   "cell_type": "code",
   "execution_count": 28,
   "id": "e1d8dbed",
   "metadata": {
    "scrolled": true
   },
   "outputs": [
    {
     "name": "stdout",
     "output_type": "stream",
     "text": [
      "i am decorator\n",
      "args=('a', 'b', 'c')\n",
      "kwargs={'d': 1, 'e': 2, 'f': 3}\n",
      "I am function\n",
      "this is my args ('a', 'b', 'c')\n",
      "this is my kwargs {'d': 1, 'e': 2, 'f': 3}\n",
      "result в декораторе (('a', 'b', 'c'), {'d': 1, 'e': 2, 'f': 3})\n",
      "result=(('a', 'b', 'c'), {'d': 1, 'e': 2, 'f': 3})\n"
     ]
    }
   ],
   "source": [
    "result = basic_function_with_args_and_result(*args, **kwargs)\n",
    "print(f\"{result=}\")"
   ]
  },
  {
   "cell_type": "markdown",
   "id": "5da2ff7a",
   "metadata": {},
   "source": [
    "### Cлучай с аргументами функции, аргументами декоратора и возвращаемым результатом. \n",
    "- Декоратор принимает дополнительные аргументы \\*args и \\*\\*kwargs..\n",
    "- Функция принимает дополнительные аргументы \\*args и \\*\\*kwargs.\n",
    "- Декоратор возращает только функцию.\n",
    "- Функция возвращает результат\n",
    "- Для наглядности декоратор и функция выводят сообщения\n",
    "- Декоратор выводит \\*args и \\*\\*kwargs"
   ]
  },
  {
   "cell_type": "code",
   "execution_count": 31,
   "id": "5a64bf0d",
   "metadata": {},
   "outputs": [],
   "source": [
    "def basic_decorator_func_with_args_and_result_and_dec_args(*decorator_args, **decorator_kwargs):\n",
    "    def decorator(func):\n",
    "        def wrapper(*args, **kwargs):\n",
    "            print(\"i am decorator\")\n",
    "            print(f\"{decorator_args=}\")\n",
    "            print(f\"{decorator_kwargs=}\")\n",
    "            print(f\"{args=}\")\n",
    "            print(f\"{kwargs=}\")\n",
    "            result = func(*args, **kwargs)\n",
    "            print(\"result в декораторе\", result)\n",
    "            return result\n",
    "        return wrapper\n",
    "    return decorator\n",
    "\n",
    "\n",
    "decorator_args = (1,2,3)\n",
    "decorator_kwargs = {\"dec\": \"yeah\"}\n",
    "\n",
    "@basic_decorator_func_with_args_and_result_and_dec_args(*decorator_args, **decorator_kwargs)\n",
    "def basic_function_with_args_and_result_and_dec_args(*args, **kwargs):\n",
    "    print(\"I am function\")\n",
    "    print(\"this is my args\", args)\n",
    "    print(\"this is my kwargs\", kwargs)\n",
    "    return (args, kwargs)"
   ]
  },
  {
   "cell_type": "code",
   "execution_count": 32,
   "id": "62065d6b",
   "metadata": {},
   "outputs": [],
   "source": [
    "args = (\"a\", \"b\", \"c\")\n",
    "kwargs = {\"d\": 1, \"e\": 2, \"f\": 3}"
   ]
  },
  {
   "cell_type": "code",
   "execution_count": 33,
   "id": "c7d54085",
   "metadata": {
    "scrolled": true
   },
   "outputs": [
    {
     "name": "stdout",
     "output_type": "stream",
     "text": [
      "i am decorator\n",
      "decorator_args=(1, 2, 3)\n",
      "decorator_kwargs={'dec': 'yeah'}\n",
      "args=('a', 'b', 'c')\n",
      "kwargs={'d': 1, 'e': 2, 'f': 3}\n",
      "I am function\n",
      "this is my args ('a', 'b', 'c')\n",
      "this is my kwargs {'d': 1, 'e': 2, 'f': 3}\n",
      "result в декораторе (('a', 'b', 'c'), {'d': 1, 'e': 2, 'f': 3})\n",
      "result=(('a', 'b', 'c'), {'d': 1, 'e': 2, 'f': 3})\n"
     ]
    }
   ],
   "source": [
    "result = basic_function_with_args_and_result_and_dec_args(*args, **kwargs)\n",
    "print(f\"{result=}\")"
   ]
  },
  {
   "cell_type": "code",
   "execution_count": null,
   "id": "49364ef5",
   "metadata": {},
   "outputs": [],
   "source": []
  }
 ],
 "metadata": {
  "kernelspec": {
   "display_name": "Python 3",
   "language": "python",
   "name": "python3"
  },
  "language_info": {
   "codemirror_mode": {
    "name": "ipython",
    "version": 3
   },
   "file_extension": ".py",
   "mimetype": "text/x-python",
   "name": "python",
   "nbconvert_exporter": "python",
   "pygments_lexer": "ipython3",
   "version": "3.8.10"
  }
 },
 "nbformat": 4,
 "nbformat_minor": 5
}

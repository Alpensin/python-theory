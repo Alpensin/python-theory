{
 "cells": [
  {
   "cell_type": "markdown",
   "id": "unlike-signal",
   "metadata": {},
   "source": [
    "# Собственные итераторы и генераторы"
   ]
  },
  {
   "cell_type": "markdown",
   "id": "micro-michigan",
   "metadata": {},
   "source": [
    "# Итератор"
   ]
  },
  {
   "cell_type": "markdown",
   "id": "pleased-execution",
   "metadata": {},
   "source": [
    "### Объект является итератором, если:\n",
    "* Есть метод `__iter__`. Нужен, чтобы его можно было использовать в цикле `for`.\n",
    "* Есть метод `__next__`. Нужен, чтобы вызывать следующее значение итератора."
   ]
  },
  {
   "cell_type": "markdown",
   "id": "formal-retailer",
   "metadata": {},
   "source": [
    "### Самый простой итератор.\n",
    " _Без аргументов. Только два нужных метода_"
   ]
  },
  {
   "cell_type": "code",
   "execution_count": 56,
   "id": "intelligent-feeding",
   "metadata": {},
   "outputs": [],
   "source": [
    "class DegreeOfTwo:\n",
    "    '''Бесконечно получаем степени двойки, начиная с 1 степени'''\n",
    "\n",
    "    def __init__(self):\n",
    "        self.degree = 0\n",
    "\n",
    "    def __next__(self):\n",
    "        self.degree += 1\n",
    "        return 2**self.degree\n",
    "\n",
    "    def __iter__(self):\n",
    "        return self"
   ]
  },
  {
   "cell_type": "code",
   "execution_count": 57,
   "id": "sitting-bouquet",
   "metadata": {
    "scrolled": true
   },
   "outputs": [
    {
     "name": "stdout",
     "output_type": "stream",
     "text": [
      "2\n",
      "4\n",
      "8\n",
      "16\n",
      "32\n"
     ]
    }
   ],
   "source": [
    "iterate_degrees_of_two = DegreeOfTwo()\n",
    "for i in range(5):\n",
    "    print(next(iterate_degrees_of_two))"
   ]
  },
  {
   "cell_type": "markdown",
   "id": "athletic-piece",
   "metadata": {},
   "source": [
    "##### Следующий элемент `next()` или `__next__`:"
   ]
  },
  {
   "cell_type": "code",
   "execution_count": 58,
   "id": "continental-teddy",
   "metadata": {},
   "outputs": [
    {
     "data": {
      "text/plain": [
       "64"
      ]
     },
     "execution_count": 58,
     "metadata": {},
     "output_type": "execute_result"
    }
   ],
   "source": [
    "iterate_degrees_of_two.__next__()"
   ]
  },
  {
   "cell_type": "markdown",
   "id": "driven-plasma",
   "metadata": {},
   "source": [
    "### Введём аргумент с максимальным значением."
   ]
  },
  {
   "cell_type": "code",
   "execution_count": 59,
   "id": "brief-orlando",
   "metadata": {},
   "outputs": [],
   "source": [
    "class DegreeOfTwo:\n",
    "    '''Получаем степень двойки, пока значение не превысит указанный предел'''\n",
    "    def __init__(self, max_val):\n",
    "        self.max_val = max_val\n",
    "        self.degree = 0\n",
    "\n",
    "    def __next__(self):\n",
    "        self.degree += 1\n",
    "        next_val = 2**self.degree\n",
    "        if next_val > self.max_val:\n",
    "            raise StopIteration\n",
    "        return next_val\n",
    "\n",
    "    def __iter__(self):\n",
    "        return self"
   ]
  },
  {
   "cell_type": "code",
   "execution_count": 60,
   "id": "happy-literacy",
   "metadata": {},
   "outputs": [],
   "source": [
    "iterate_degrees_of_two = DegreeOfTwo(1024)"
   ]
  },
  {
   "cell_type": "markdown",
   "id": "sudden-folder",
   "metadata": {},
   "source": [
    "#### Так как есть ограничение сверху, можно смело итерировать, не боясь бесконечного цикла"
   ]
  },
  {
   "cell_type": "code",
   "execution_count": 61,
   "id": "cloudy-bristol",
   "metadata": {},
   "outputs": [
    {
     "name": "stdout",
     "output_type": "stream",
     "text": [
      "2\n",
      "4\n",
      "8\n",
      "16\n",
      "32\n",
      "64\n",
      "128\n",
      "256\n",
      "512\n",
      "1024\n"
     ]
    }
   ],
   "source": [
    "for i in iterate_degrees_of_two:\n",
    "    print(i)"
   ]
  },
  {
   "cell_type": "markdown",
   "id": "based-words",
   "metadata": {},
   "source": [
    "# Генератор"
   ]
  },
  {
   "cell_type": "markdown",
   "id": "aboriginal-engagement",
   "metadata": {},
   "source": [
    "### Функция является генератором, если:\n",
    "* Используется оператор `yield` для возврата значений\n"
   ]
  },
  {
   "cell_type": "markdown",
   "id": "addressed-insurance",
   "metadata": {},
   "source": [
    "### Самый простой генератор"
   ]
  },
  {
   "cell_type": "code",
   "execution_count": 62,
   "id": "exciting-palestinian",
   "metadata": {},
   "outputs": [],
   "source": [
    "def degree_of_two():\n",
    "    '''Бесконечно получаем степени двойки, начиная с 1 степени'''\n",
    "    degree = 0\n",
    "    while True:\n",
    "        degree += 1\n",
    "        yield  2**degree"
   ]
  },
  {
   "cell_type": "code",
   "execution_count": 63,
   "id": "artistic-junction",
   "metadata": {},
   "outputs": [
    {
     "name": "stdout",
     "output_type": "stream",
     "text": [
      "2\n",
      "4\n",
      "8\n",
      "16\n",
      "32\n"
     ]
    }
   ],
   "source": [
    "iterate_degrees_of_two = degree_of_two()\n",
    "for i in range(5):\n",
    "    print(next(iterate_degrees_of_two))"
   ]
  },
  {
   "cell_type": "markdown",
   "id": "internal-overall",
   "metadata": {},
   "source": [
    "### Еще один способ создания генератора - generator expression:"
   ]
  },
  {
   "cell_type": "code",
   "execution_count": 70,
   "id": "broad-investigator",
   "metadata": {},
   "outputs": [],
   "source": [
    "iterate_degrees_of_two_expression = (2**degree for degree in range(1, 6))"
   ]
  },
  {
   "cell_type": "code",
   "execution_count": 71,
   "id": "alternate-barrier",
   "metadata": {},
   "outputs": [
    {
     "name": "stdout",
     "output_type": "stream",
     "text": [
      "2\n",
      "4\n",
      "8\n",
      "16\n",
      "32\n"
     ]
    }
   ],
   "source": [
    "for i in iterate_degrees_of_two_expression:\n",
    "    print(i)"
   ]
  },
  {
   "cell_type": "markdown",
   "id": "structural-shipping",
   "metadata": {},
   "source": [
    "### Тип iterate_degrees_of_two_expression и iterate_degrees_of_two одинаков:"
   ]
  },
  {
   "cell_type": "code",
   "execution_count": 66,
   "id": "popular-samuel",
   "metadata": {
    "scrolled": false
   },
   "outputs": [
    {
     "data": {
      "text/plain": [
       "True"
      ]
     },
     "execution_count": 66,
     "metadata": {},
     "output_type": "execute_result"
    }
   ],
   "source": [
    "type(iterate_degrees_of_two_expression) == type(iterate_degrees_of_two) # True - generator"
   ]
  },
  {
   "cell_type": "markdown",
   "id": "detailed-jackson",
   "metadata": {},
   "source": [
    "### Введём аргумент с максимальным значением."
   ]
  },
  {
   "cell_type": "code",
   "execution_count": 67,
   "id": "hawaiian-private",
   "metadata": {},
   "outputs": [],
   "source": [
    "def degree_of_two(max_value):\n",
    "    ''''Получаем степень двойки, пока значение не превысит указанный предел'''\n",
    "    degree = 0\n",
    "    cur_value = 0\n",
    "    while True:\n",
    "        degree += 1\n",
    "        next_value = 2**degree\n",
    "        if next_value > max_value:\n",
    "            break\n",
    "        yield next_value"
   ]
  },
  {
   "cell_type": "code",
   "execution_count": 68,
   "id": "sublime-quilt",
   "metadata": {},
   "outputs": [],
   "source": [
    "iterate_degrees_of_two = degree_of_two(1024)"
   ]
  },
  {
   "cell_type": "markdown",
   "id": "interracial-amendment",
   "metadata": {},
   "source": [
    "#### Опять, так как есть ограничение сверху, можно смело итерировать, не боясь бесконечного цикла"
   ]
  },
  {
   "cell_type": "code",
   "execution_count": 69,
   "id": "spoken-reply",
   "metadata": {},
   "outputs": [
    {
     "name": "stdout",
     "output_type": "stream",
     "text": [
      "2\n",
      "4\n",
      "8\n",
      "16\n",
      "32\n",
      "64\n",
      "128\n",
      "256\n",
      "512\n",
      "1024\n"
     ]
    }
   ],
   "source": [
    "for i in iterate_degrees_of_two:\n",
    "    print(i)"
   ]
  },
  {
   "cell_type": "code",
   "execution_count": null,
   "id": "bizarre-choir",
   "metadata": {},
   "outputs": [],
   "source": []
  }
 ],
 "metadata": {
  "kernelspec": {
   "display_name": "Python 3",
   "language": "python",
   "name": "python3"
  },
  "language_info": {
   "codemirror_mode": {
    "name": "ipython",
    "version": 3
   },
   "file_extension": ".py",
   "mimetype": "text/x-python",
   "name": "python",
   "nbconvert_exporter": "python",
   "pygments_lexer": "ipython3",
   "version": "3.9.2"
  }
 },
 "nbformat": 4,
 "nbformat_minor": 5
}

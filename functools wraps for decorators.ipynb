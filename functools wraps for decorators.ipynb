{
 "cells": [
  {
   "cell_type": "markdown",
   "id": "internal-gauge",
   "metadata": {},
   "source": [
    "# Использование functools.wraps\n",
    "На основе статьи https://lerner.co.il/2019/05/05/making-your-python-decorators-even-better-with-functool-wraps/"
   ]
  },
  {
   "cell_type": "markdown",
   "id": "endless-hawaiian",
   "metadata": {},
   "source": [
    "# Код из functools.wraps\n",
    "\n",
    "```\n",
    "WRAPPER_ASSIGNMENTS = ('__module__', '__name__', '__qualname__', '__doc__',\n",
    "                       '__annotations__')\n",
    "WRAPPER_UPDATES = ('__dict__',)\n",
    "\n",
    "def wraps(wrapped,\n",
    "          assigned = WRAPPER_ASSIGNMENTS,\n",
    "          updated = WRAPPER_UPDATES):\n",
    "    \"\"\"Decorator factory to apply update_wrapper() to a wrapper function\n",
    "\n",
    "       Returns a decorator that invokes update_wrapper() with the decorated\n",
    "       function as the wrapper argument and the arguments to wraps() as the\n",
    "       remaining arguments. Default arguments are as for update_wrapper().\n",
    "       This is a convenience function to simplify applying partial() to\n",
    "       update_wrapper().\n",
    "    \"\"\"\n",
    "    return partial(update_wrapper, wrapped=wrapped,\n",
    "                   assigned=assigned, updated=updated)\n",
    "```"
   ]
  },
  {
   "cell_type": "markdown",
   "id": "frozen-married",
   "metadata": {},
   "source": [
    "## Простой декоратор"
   ]
  },
  {
   "cell_type": "code",
   "execution_count": 123,
   "id": "another-channels",
   "metadata": {},
   "outputs": [],
   "source": [
    "def mydeco(func):\n",
    "    def wrapper(*args, **kwargs):\n",
    "        return f'!!! {func(*args, **kwargs)} !!!'\n",
    "    return wrapper"
   ]
  },
  {
   "cell_type": "code",
   "execution_count": 124,
   "id": "wanted-conservation",
   "metadata": {},
   "outputs": [],
   "source": [
    "@mydeco\n",
    "def add(a: float, b: float) -> float:\n",
    "    '''Add two objects together, the long way'''\n",
    "    return a + b"
   ]
  },
  {
   "cell_type": "code",
   "execution_count": 125,
   "id": "judicial-import",
   "metadata": {
    "scrolled": true
   },
   "outputs": [
    {
     "data": {
      "text/plain": [
       "'!!! 5 !!!'"
      ]
     },
     "execution_count": 125,
     "metadata": {},
     "output_type": "execute_result"
    }
   ],
   "source": [
    "add(2,3)"
   ]
  },
  {
   "cell_type": "markdown",
   "id": "naval-passion",
   "metadata": {},
   "source": [
    "### Имя функции wrapper, что не даёт нам полезной информации"
   ]
  },
  {
   "cell_type": "code",
   "execution_count": 126,
   "id": "naked-namibia",
   "metadata": {
    "scrolled": false
   },
   "outputs": [
    {
     "data": {
      "text/plain": [
       "'wrapper'"
      ]
     },
     "execution_count": 126,
     "metadata": {},
     "output_type": "execute_result"
    }
   ],
   "source": [
    "add.__name__"
   ]
  },
  {
   "cell_type": "code",
   "execution_count": 127,
   "id": "nuclear-ordinance",
   "metadata": {},
   "outputs": [
    {
     "data": {
      "text/plain": [
       "'mydeco.<locals>.wrapper'"
      ]
     },
     "execution_count": 127,
     "metadata": {},
     "output_type": "execute_result"
    }
   ],
   "source": [
    "add.__qualname__"
   ]
  },
  {
   "cell_type": "markdown",
   "id": "interesting-earth",
   "metadata": {},
   "source": [
    "### Аналогично нет доступа к docstring, аннотациям"
   ]
  },
  {
   "cell_type": "code",
   "execution_count": 128,
   "id": "curious-outdoors",
   "metadata": {
    "scrolled": true
   },
   "outputs": [
    {
     "name": "stdout",
     "output_type": "stream",
     "text": [
      "Help on function wrapper in module __main__:\n",
      "\n",
      "wrapper(*args, **kwargs)\n",
      "\n"
     ]
    }
   ],
   "source": [
    "help(add)"
   ]
  },
  {
   "cell_type": "code",
   "execution_count": 129,
   "id": "ignored-produce",
   "metadata": {
    "scrolled": true
   },
   "outputs": [
    {
     "data": {
      "text/plain": [
       "{}"
      ]
     },
     "execution_count": 129,
     "metadata": {},
     "output_type": "execute_result"
    }
   ],
   "source": [
    "add.__dict__"
   ]
  },
  {
   "cell_type": "code",
   "execution_count": 130,
   "id": "abroad-capability",
   "metadata": {},
   "outputs": [
    {
     "data": {
      "text/plain": [
       "{}"
      ]
     },
     "execution_count": 130,
     "metadata": {},
     "output_type": "execute_result"
    }
   ],
   "source": [
    "add.__annotations__"
   ]
  },
  {
   "cell_type": "markdown",
   "id": "prerequisite-debate",
   "metadata": {},
   "source": [
    "# Вариант с wraps"
   ]
  },
  {
   "cell_type": "code",
   "execution_count": 131,
   "id": "coupled-extension",
   "metadata": {},
   "outputs": [],
   "source": [
    "from functools import wraps\n",
    "def mydeco(func):\n",
    "    @wraps(func)\n",
    "    def wrapper(*args, **kwargs):\n",
    "        return f'!!! {func(*args, **kwargs)} !!!'\n",
    "    return wrapper"
   ]
  },
  {
   "cell_type": "code",
   "execution_count": 132,
   "id": "adopted-suicide",
   "metadata": {},
   "outputs": [],
   "source": [
    "@mydeco\n",
    "def add(a: float, b: float) -> float:\n",
    "    '''Add two objects together, the long way'''\n",
    "    return a + b"
   ]
  },
  {
   "cell_type": "code",
   "execution_count": 133,
   "id": "apart-tourist",
   "metadata": {
    "scrolled": true
   },
   "outputs": [
    {
     "data": {
      "text/plain": [
       "'!!! 3 !!!'"
      ]
     },
     "execution_count": 133,
     "metadata": {},
     "output_type": "execute_result"
    }
   ],
   "source": [
    "add(1,2)"
   ]
  },
  {
   "cell_type": "markdown",
   "id": "native-contributor",
   "metadata": {},
   "source": [
    "### Теперь есть доступ к имени и описанию функции"
   ]
  },
  {
   "cell_type": "code",
   "execution_count": 134,
   "id": "printable-baseball",
   "metadata": {
    "scrolled": true
   },
   "outputs": [
    {
     "data": {
      "text/plain": [
       "'add'"
      ]
     },
     "execution_count": 134,
     "metadata": {},
     "output_type": "execute_result"
    }
   ],
   "source": [
    "add.__name__"
   ]
  },
  {
   "cell_type": "code",
   "execution_count": 135,
   "id": "blind-passing",
   "metadata": {},
   "outputs": [
    {
     "data": {
      "text/plain": [
       "'add'"
      ]
     },
     "execution_count": 135,
     "metadata": {},
     "output_type": "execute_result"
    }
   ],
   "source": [
    "add.__qualname__"
   ]
  },
  {
   "cell_type": "code",
   "execution_count": 136,
   "id": "incorrect-trademark",
   "metadata": {
    "scrolled": false
   },
   "outputs": [
    {
     "name": "stdout",
     "output_type": "stream",
     "text": [
      "Help on function add in module __main__:\n",
      "\n",
      "add(a: float, b: float) -> float\n",
      "    Add two objects together, the long way\n",
      "\n"
     ]
    }
   ],
   "source": [
    "help(add)"
   ]
  },
  {
   "cell_type": "code",
   "execution_count": 137,
   "id": "naval-trigger",
   "metadata": {},
   "outputs": [
    {
     "data": {
      "text/plain": [
       "{'__wrapped__': <function __main__.add(a: float, b: float) -> float>}"
      ]
     },
     "execution_count": 137,
     "metadata": {},
     "output_type": "execute_result"
    }
   ],
   "source": [
    "add.__dict__"
   ]
  },
  {
   "cell_type": "code",
   "execution_count": 138,
   "id": "irish-dependence",
   "metadata": {
    "scrolled": true
   },
   "outputs": [
    {
     "data": {
      "text/plain": [
       "{'a': float, 'b': float, 'return': float}"
      ]
     },
     "execution_count": 138,
     "metadata": {},
     "output_type": "execute_result"
    }
   ],
   "source": [
    "add.__annotations__"
   ]
  },
  {
   "cell_type": "code",
   "execution_count": null,
   "id": "fantastic-limitation",
   "metadata": {},
   "outputs": [],
   "source": []
  }
 ],
 "metadata": {
  "kernelspec": {
   "display_name": "Python 3",
   "language": "python",
   "name": "python3"
  },
  "language_info": {
   "codemirror_mode": {
    "name": "ipython",
    "version": 3
   },
   "file_extension": ".py",
   "mimetype": "text/x-python",
   "name": "python",
   "nbconvert_exporter": "python",
   "pygments_lexer": "ipython3",
   "version": "3.9.1"
  }
 },
 "nbformat": 4,
 "nbformat_minor": 5
}

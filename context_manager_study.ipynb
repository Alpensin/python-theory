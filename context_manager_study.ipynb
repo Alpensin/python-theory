{
 "cells": [
  {
   "cell_type": "markdown",
   "id": "5552bf68",
   "metadata": {},
   "source": [
    "## Контекстный менеджер может быть классом или генератором."
   ]
  },
  {
   "cell_type": "markdown",
   "id": "6a2e5e23",
   "metadata": {},
   "source": [
    "### Класс должен содержать магические методы  `__enter__` и `__exit__`"
   ]
  },
  {
   "cell_type": "code",
   "execution_count": 82,
   "id": "fc564b03",
   "metadata": {},
   "outputs": [],
   "source": [
    "class File:\n",
    "    def __enter__(self):\n",
    "        print(\"in __enter__\")\n",
    "    def __exit__(self, exc_type, exc_value, traceback):\n",
    "        print(exc_type)\n",
    "        print(exc_value)\n",
    "        print(traceback)\n",
    "        print(\"in __exit__\")"
   ]
  },
  {
   "cell_type": "code",
   "execution_count": 83,
   "id": "fe3ace8e",
   "metadata": {},
   "outputs": [
    {
     "name": "stdout",
     "output_type": "stream",
     "text": [
      "in __enter__\n",
      "inside\n",
      "None\n",
      "None\n",
      "None\n",
      "in __exit__\n"
     ]
    }
   ],
   "source": [
    "with File() as f:\n",
    "    print(\"inside\")"
   ]
  },
  {
   "cell_type": "markdown",
   "id": "cdef57cb",
   "metadata": {},
   "source": [
    "### В `__init__` можно передать аргументы, как и в любом другом классе."
   ]
  },
  {
   "cell_type": "code",
   "execution_count": 84,
   "id": "b9e5960f",
   "metadata": {},
   "outputs": [],
   "source": [
    "class File:\n",
    "    def __init__(self, s):\n",
    "        self.s = iter(s)\n",
    "        print(\"in __init__\")\n",
    "    def __enter__(self):\n",
    "        print(\"in __enter__\")\n",
    "        return self.s\n",
    "    def __exit__(self, exc_type, exc_value, traceback):\n",
    "        print(exc_type)\n",
    "        print(exc_value)\n",
    "        print(traceback)\n",
    "        print(\"in __exit__\")\n"
   ]
  },
  {
   "cell_type": "code",
   "execution_count": 85,
   "id": "86d97f27",
   "metadata": {},
   "outputs": [
    {
     "name": "stdout",
     "output_type": "stream",
     "text": [
      "in __init__\n",
      "in __enter__\n",
      "1\n",
      "inside\n",
      "None\n",
      "None\n",
      "None\n",
      "in __exit__\n"
     ]
    }
   ],
   "source": [
    "with File([1,23,44]) as f:\n",
    "    print(next(f))\n",
    "    print(\"inside\")"
   ]
  },
  {
   "cell_type": "code",
   "execution_count": 86,
   "id": "d0e345fe",
   "metadata": {},
   "outputs": [],
   "source": [
    "def ext():\n",
    "    with File([1,23,44]) as f:\n",
    "        print(next(f))\n",
    "        print(\"inside\")\n",
    "        return 'Finish'"
   ]
  },
  {
   "cell_type": "code",
   "execution_count": 87,
   "id": "b8e690aa",
   "metadata": {
    "scrolled": true
   },
   "outputs": [
    {
     "name": "stdout",
     "output_type": "stream",
     "text": [
      "in __init__\n",
      "in __enter__\n",
      "1\n",
      "inside\n",
      "None\n",
      "None\n",
      "None\n",
      "in __exit__\n"
     ]
    }
   ],
   "source": [
    "a = ext()"
   ]
  },
  {
   "cell_type": "markdown",
   "id": "998ab09a",
   "metadata": {},
   "source": [
    "### Попробую вызвать `StopIteration` для f"
   ]
  },
  {
   "cell_type": "code",
   "execution_count": 88,
   "id": "99fc97c0",
   "metadata": {},
   "outputs": [],
   "source": [
    "def ext1():\n",
    "    with File([1]) as f:\n",
    "        print(next(f))\n",
    "        print(next(f))\n",
    "        print(\"inside\")\n",
    "        return 'Finish'"
   ]
  },
  {
   "cell_type": "code",
   "execution_count": 89,
   "id": "f3e24c81",
   "metadata": {},
   "outputs": [
    {
     "name": "stdout",
     "output_type": "stream",
     "text": [
      "in __init__\n",
      "in __enter__\n",
      "1\n",
      "<class 'StopIteration'>\n",
      "\n",
      "<traceback object at 0x00000181B6FD80C0>\n",
      "in __exit__\n"
     ]
    },
    {
     "ename": "StopIteration",
     "evalue": "",
     "output_type": "error",
     "traceback": [
      "\u001b[1;31m---------------------------------------------------------------------------\u001b[0m",
      "\u001b[1;31mStopIteration\u001b[0m                             Traceback (most recent call last)",
      "\u001b[1;32mC:\\Users\\AVMARD~1\\AppData\\Local\\Temp/ipykernel_7812/3024846777.py\u001b[0m in \u001b[0;36m<module>\u001b[1;34m\u001b[0m\n\u001b[1;32m----> 1\u001b[1;33m \u001b[0mb\u001b[0m \u001b[1;33m=\u001b[0m \u001b[0mext1\u001b[0m\u001b[1;33m(\u001b[0m\u001b[1;33m)\u001b[0m\u001b[1;33m\u001b[0m\u001b[1;33m\u001b[0m\u001b[0m\n\u001b[0m",
      "\u001b[1;32mC:\\Users\\AVMARD~1\\AppData\\Local\\Temp/ipykernel_7812/792995087.py\u001b[0m in \u001b[0;36mext1\u001b[1;34m()\u001b[0m\n\u001b[0;32m      2\u001b[0m     \u001b[1;32mwith\u001b[0m \u001b[0mFile\u001b[0m\u001b[1;33m(\u001b[0m\u001b[1;33m[\u001b[0m\u001b[1;36m1\u001b[0m\u001b[1;33m]\u001b[0m\u001b[1;33m)\u001b[0m \u001b[1;32mas\u001b[0m \u001b[0mf\u001b[0m\u001b[1;33m:\u001b[0m\u001b[1;33m\u001b[0m\u001b[1;33m\u001b[0m\u001b[0m\n\u001b[0;32m      3\u001b[0m         \u001b[0mprint\u001b[0m\u001b[1;33m(\u001b[0m\u001b[0mnext\u001b[0m\u001b[1;33m(\u001b[0m\u001b[0mf\u001b[0m\u001b[1;33m)\u001b[0m\u001b[1;33m)\u001b[0m\u001b[1;33m\u001b[0m\u001b[1;33m\u001b[0m\u001b[0m\n\u001b[1;32m----> 4\u001b[1;33m         \u001b[0mprint\u001b[0m\u001b[1;33m(\u001b[0m\u001b[0mnext\u001b[0m\u001b[1;33m(\u001b[0m\u001b[0mf\u001b[0m\u001b[1;33m)\u001b[0m\u001b[1;33m)\u001b[0m\u001b[1;33m\u001b[0m\u001b[1;33m\u001b[0m\u001b[0m\n\u001b[0m\u001b[0;32m      5\u001b[0m         \u001b[0mprint\u001b[0m\u001b[1;33m(\u001b[0m\u001b[1;34m\"inside\"\u001b[0m\u001b[1;33m)\u001b[0m\u001b[1;33m\u001b[0m\u001b[1;33m\u001b[0m\u001b[0m\n\u001b[0;32m      6\u001b[0m         \u001b[1;32mreturn\u001b[0m \u001b[1;34m'Finish'\u001b[0m\u001b[1;33m\u001b[0m\u001b[1;33m\u001b[0m\u001b[0m\n",
      "\u001b[1;31mStopIteration\u001b[0m: "
     ]
    }
   ],
   "source": [
    "b = ext1()"
   ]
  },
  {
   "cell_type": "markdown",
   "id": "998b3985",
   "metadata": {},
   "source": [
    "### Попробую проигнорить `StopIteration` для f"
   ]
  },
  {
   "cell_type": "code",
   "execution_count": 96,
   "id": "ca1e794b",
   "metadata": {},
   "outputs": [],
   "source": [
    "class File:\n",
    "    def __init__(self, s):\n",
    "        self.s = iter(s)\n",
    "        print(\"in __init__\")\n",
    "    def __enter__(self):\n",
    "        print(\"in __enter__\")\n",
    "        return self.s\n",
    "    def __exit__(self, exc_type, exc_value, tracebackk):\n",
    "        print(\"in __exit__\")\n",
    "        print(exc_value.__repr__)\n",
    "        if isinstance(exc_value, StopIteration):\n",
    "            print(f\"Chill, thats {exc_type}\")\n",
    "            return True"
   ]
  },
  {
   "cell_type": "code",
   "execution_count": 97,
   "id": "209a8d02",
   "metadata": {},
   "outputs": [],
   "source": [
    "def ext1():\n",
    "    with File([1]) as f:\n",
    "        print(next(f))\n",
    "        print(next(f))\n",
    "        print(\"inside\")\n",
    "        return 'Finish'"
   ]
  },
  {
   "cell_type": "code",
   "execution_count": 98,
   "id": "e371f5ce",
   "metadata": {},
   "outputs": [
    {
     "name": "stdout",
     "output_type": "stream",
     "text": [
      "in __init__\n",
      "in __enter__\n",
      "in __exit__\n",
      "<method-wrapper '__repr__' of ZeroDivisionError object at 0x00000181B6E3AAE0>\n"
     ]
    },
    {
     "ename": "ZeroDivisionError",
     "evalue": "division by zero",
     "output_type": "error",
     "traceback": [
      "\u001b[1;31m---------------------------------------------------------------------------\u001b[0m",
      "\u001b[1;31mZeroDivisionError\u001b[0m                         Traceback (most recent call last)",
      "\u001b[1;32mC:\\Users\\AVMARD~1\\AppData\\Local\\Temp/ipykernel_7812/3024846777.py\u001b[0m in \u001b[0;36m<module>\u001b[1;34m\u001b[0m\n\u001b[1;32m----> 1\u001b[1;33m \u001b[0mb\u001b[0m \u001b[1;33m=\u001b[0m \u001b[0mext1\u001b[0m\u001b[1;33m(\u001b[0m\u001b[1;33m)\u001b[0m\u001b[1;33m\u001b[0m\u001b[1;33m\u001b[0m\u001b[0m\n\u001b[0m",
      "\u001b[1;32mC:\\Users\\AVMARD~1\\AppData\\Local\\Temp/ipykernel_7812/3594188909.py\u001b[0m in \u001b[0;36mext1\u001b[1;34m()\u001b[0m\n\u001b[0;32m      1\u001b[0m \u001b[1;32mdef\u001b[0m \u001b[0mext1\u001b[0m\u001b[1;33m(\u001b[0m\u001b[1;33m)\u001b[0m\u001b[1;33m:\u001b[0m\u001b[1;33m\u001b[0m\u001b[1;33m\u001b[0m\u001b[0m\n\u001b[0;32m      2\u001b[0m     \u001b[1;32mwith\u001b[0m \u001b[0mFile\u001b[0m\u001b[1;33m(\u001b[0m\u001b[1;33m[\u001b[0m\u001b[1;36m1\u001b[0m\u001b[1;33m]\u001b[0m\u001b[1;33m)\u001b[0m \u001b[1;32mas\u001b[0m \u001b[0mf\u001b[0m\u001b[1;33m:\u001b[0m\u001b[1;33m\u001b[0m\u001b[1;33m\u001b[0m\u001b[0m\n\u001b[1;32m----> 3\u001b[1;33m         \u001b[1;36m1\u001b[0m\u001b[1;33m/\u001b[0m\u001b[1;36m0\u001b[0m\u001b[1;33m\u001b[0m\u001b[1;33m\u001b[0m\u001b[0m\n\u001b[0m\u001b[0;32m      4\u001b[0m         \u001b[0mprint\u001b[0m\u001b[1;33m(\u001b[0m\u001b[0mnext\u001b[0m\u001b[1;33m(\u001b[0m\u001b[0mf\u001b[0m\u001b[1;33m)\u001b[0m\u001b[1;33m)\u001b[0m\u001b[1;33m\u001b[0m\u001b[1;33m\u001b[0m\u001b[0m\n\u001b[0;32m      5\u001b[0m         \u001b[0mprint\u001b[0m\u001b[1;33m(\u001b[0m\u001b[0mnext\u001b[0m\u001b[1;33m(\u001b[0m\u001b[0mf\u001b[0m\u001b[1;33m)\u001b[0m\u001b[1;33m)\u001b[0m\u001b[1;33m\u001b[0m\u001b[1;33m\u001b[0m\u001b[0m\n",
      "\u001b[1;31mZeroDivisionError\u001b[0m: division by zero"
     ]
    }
   ],
   "source": [
    "b = ext1()"
   ]
  },
  {
   "cell_type": "markdown",
   "id": "91e098dd",
   "metadata": {},
   "source": [
    "### Пример контекстного менеджера для файла"
   ]
  },
  {
   "cell_type": "code",
   "execution_count": 101,
   "id": "af87ae83",
   "metadata": {},
   "outputs": [],
   "source": [
    "class File:\n",
    "    def __init__(self, *args):\n",
    "        self.file_obj = open(*args)\n",
    "    def __enter__(self):\n",
    "        return self.file_obj\n",
    "    def __exit__(self, exc_type, exc_value, traceback):\n",
    "        self.file_obj.close()\n",
    "\n",
    "with File('test.txt', 'w') as f:\n",
    "    f.write(\"wohooo\")"
   ]
  },
  {
   "cell_type": "markdown",
   "id": "6dd0d85e",
   "metadata": {},
   "source": [
    "Для дальнейшего обучения contextlib — Utilities for with-statement context https://docs.python.org/3/library/contextlib.html"
   ]
  },
  {
   "cell_type": "markdown",
   "id": "1bcd3260",
   "metadata": {},
   "source": [
    "### Генератор в качестве контекстного менеджера"
   ]
  },
  {
   "cell_type": "code",
   "execution_count": 106,
   "id": "e3d3b62f",
   "metadata": {},
   "outputs": [],
   "source": [
    "from contextlib import contextmanager\n",
    "\n",
    "@contextmanager\n",
    "def open_file_to_write(name):\n",
    "    f = open(name, 'w')\n",
    "    try:\n",
    "        yield f\n",
    "    finally:\n",
    "        f.close()"
   ]
  },
  {
   "cell_type": "code",
   "execution_count": 108,
   "id": "aff8b0aa",
   "metadata": {},
   "outputs": [
    {
     "ename": "TypeError",
     "evalue": "write() argument must be str, not int",
     "output_type": "error",
     "traceback": [
      "\u001b[1;31m---------------------------------------------------------------------------\u001b[0m",
      "\u001b[1;31mTypeError\u001b[0m                                 Traceback (most recent call last)",
      "\u001b[1;32mC:\\Users\\AVMARD~1\\AppData\\Local\\Temp/ipykernel_7812/1776635482.py\u001b[0m in \u001b[0;36m<module>\u001b[1;34m\u001b[0m\n\u001b[0;32m      1\u001b[0m \u001b[1;32mwith\u001b[0m \u001b[0mopen_file_to_write\u001b[0m\u001b[1;33m(\u001b[0m\u001b[1;34m\"test_gen.txt\"\u001b[0m\u001b[1;33m)\u001b[0m \u001b[1;32mas\u001b[0m \u001b[0mf\u001b[0m\u001b[1;33m:\u001b[0m\u001b[1;33m\u001b[0m\u001b[1;33m\u001b[0m\u001b[0m\n\u001b[1;32m----> 2\u001b[1;33m     \u001b[0mf\u001b[0m\u001b[1;33m.\u001b[0m\u001b[0mwrite\u001b[0m\u001b[1;33m(\u001b[0m\u001b[1;36m1\u001b[0m\u001b[1;33m)\u001b[0m\u001b[1;33m\u001b[0m\u001b[1;33m\u001b[0m\u001b[0m\n\u001b[0m\u001b[0;32m      3\u001b[0m     \u001b[0mf\u001b[0m\u001b[1;33m.\u001b[0m\u001b[0mwrite\u001b[0m\u001b[1;33m(\u001b[0m\u001b[1;36m2\u001b[0m\u001b[1;33m)\u001b[0m\u001b[1;33m\u001b[0m\u001b[1;33m\u001b[0m\u001b[0m\n\u001b[0;32m      4\u001b[0m     \u001b[0mf\u001b[0m\u001b[1;33m.\u001b[0m\u001b[0mwrite\u001b[0m\u001b[1;33m(\u001b[0m\u001b[1;36m3\u001b[0m\u001b[1;33m)\u001b[0m\u001b[1;33m\u001b[0m\u001b[1;33m\u001b[0m\u001b[0m\n",
      "\u001b[1;31mTypeError\u001b[0m: write() argument must be str, not int"
     ]
    }
   ],
   "source": [
    "with open_file_to_write(\"test_gen.txt\") as f:\n",
    "    f.write(1)\n",
    "    f.write(2)\n",
    "    f.write(3)"
   ]
  },
  {
   "cell_type": "code",
   "execution_count": null,
   "id": "a01b332b",
   "metadata": {},
   "outputs": [],
   "source": []
  }
 ],
 "metadata": {
  "kernelspec": {
   "display_name": "Python 3 (ipykernel)",
   "language": "python",
   "name": "python3"
  },
  "language_info": {
   "codemirror_mode": {
    "name": "ipython",
    "version": 3
   },
   "file_extension": ".py",
   "mimetype": "text/x-python",
   "name": "python",
   "nbconvert_exporter": "python",
   "pygments_lexer": "ipython3",
   "version": "3.8.10"
  }
 },
 "nbformat": 4,
 "nbformat_minor": 5
}
